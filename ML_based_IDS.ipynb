{
  "cells": [
    {
      "cell_type": "markdown",
      "metadata": {
        "id": "view-in-github",
        "colab_type": "text"
      },
      "source": [
        "<a href=\"https://colab.research.google.com/github/bin3jrsh/project/blob/master/ML_based_IDS.ipynb\" target=\"_parent\"><img src=\"https://colab.research.google.com/assets/colab-badge.svg\" alt=\"Open In Colab\"/></a>"
      ]
    },
    {
      "cell_type": "code",
      "execution_count": 54,
      "metadata": {
        "id": "z-a9M3S4RSS4"
      },
      "outputs": [],
      "source": [
        "\n",
        "import sklearn\n",
        "import pandas"
      ]
    },
    {
      "cell_type": "code",
      "source": [
        "\n",
        "dataset1 = pandas.read_csv('dataset/Friday-WorkingHours-Afternoon-DDos.pcap_ISCX.csv')\n",
        "dataset2 = pandas.read_csv('dataset/Friday-WorkingHours-Afternoon-PortScan.pcap_ISCX.csv')\n",
        "dataset3 = pandas.read_csv('dataset/Friday-WorkingHours-Morning.pcap_ISCX.csv')\n",
        "dataset4 = pandas.read_csv('dataset/Monday-WorkingHours.pcap_ISCX.csv')\n",
        "dataset5 = pandas.read_csv('dataset/Thursday-WorkingHours-Afternoon-Infilteration.pcap_ISCX.csv')\n",
        "dataset6 = pandas.read_csv('dataset/Thursday-WorkingHours-Morning-WebAttacks.pcap_ISCX.csv',encoding='latin1')\n",
        "dataset7 = pandas.read_csv('dataset/Tuesday-WorkingHours.pcap_ISCX.csv')\n",
        "dataset8 = pandas.read_csv('dataset/Wednesday-workingHours.pcap_ISCX.csv')"
      ],
      "metadata": {
        "id": "Nt8QpVNtbGBK"
      },
      "execution_count": 55,
      "outputs": []
    },
    {
      "cell_type": "code",
      "source": [
        "print(dataset1.shape)\n",
        "print(dataset2.shape)\n",
        "print(dataset3.shape)\n",
        "print(dataset4.shape)\n",
        "print(dataset5.shape)\n",
        "print(dataset6.shape)\n",
        "print(dataset7.shape)\n",
        "print(dataset8.shape)"
      ],
      "metadata": {
        "colab": {
          "base_uri": "https://localhost:8080/"
        },
        "id": "lVC_FjkicDTe",
        "outputId": "5dd92c7e-9974-4c95-e75b-caf48c48bb11"
      },
      "execution_count": 56,
      "outputs": [
        {
          "output_type": "stream",
          "name": "stdout",
          "text": [
            "(133550, 85)\n",
            "(157115, 85)\n",
            "(146050, 85)\n",
            "(102942, 85)\n",
            "(150551, 85)\n",
            "(148865, 85)\n",
            "(139327, 85)\n",
            "(131742, 85)\n"
          ]
        }
      ]
    },
    {
      "cell_type": "code",
      "source": [
        "print(dataset1.columns)"
      ],
      "metadata": {
        "id": "eekHkaFOLOp1",
        "colab": {
          "base_uri": "https://localhost:8080/"
        },
        "outputId": "5df5905a-cf17-4506-8480-7b3a97dcdce9"
      },
      "execution_count": 57,
      "outputs": [
        {
          "output_type": "stream",
          "name": "stdout",
          "text": [
            "Index(['Flow ID', ' Source IP', ' Source Port', ' Destination IP',\n",
            "       ' Destination Port', ' Protocol', ' Timestamp', ' Flow Duration',\n",
            "       ' Total Fwd Packets', ' Total Backward Packets',\n",
            "       'Total Length of Fwd Packets', ' Total Length of Bwd Packets',\n",
            "       ' Fwd Packet Length Max', ' Fwd Packet Length Min',\n",
            "       ' Fwd Packet Length Mean', ' Fwd Packet Length Std',\n",
            "       'Bwd Packet Length Max', ' Bwd Packet Length Min',\n",
            "       ' Bwd Packet Length Mean', ' Bwd Packet Length Std', 'Flow Bytes/s',\n",
            "       ' Flow Packets/s', ' Flow IAT Mean', ' Flow IAT Std', ' Flow IAT Max',\n",
            "       ' Flow IAT Min', 'Fwd IAT Total', ' Fwd IAT Mean', ' Fwd IAT Std',\n",
            "       ' Fwd IAT Max', ' Fwd IAT Min', 'Bwd IAT Total', ' Bwd IAT Mean',\n",
            "       ' Bwd IAT Std', ' Bwd IAT Max', ' Bwd IAT Min', 'Fwd PSH Flags',\n",
            "       ' Bwd PSH Flags', ' Fwd URG Flags', ' Bwd URG Flags',\n",
            "       ' Fwd Header Length', ' Bwd Header Length', 'Fwd Packets/s',\n",
            "       ' Bwd Packets/s', ' Min Packet Length', ' Max Packet Length',\n",
            "       ' Packet Length Mean', ' Packet Length Std', ' Packet Length Variance',\n",
            "       'FIN Flag Count', ' SYN Flag Count', ' RST Flag Count',\n",
            "       ' PSH Flag Count', ' ACK Flag Count', ' URG Flag Count',\n",
            "       ' CWE Flag Count', ' ECE Flag Count', ' Down/Up Ratio',\n",
            "       ' Average Packet Size', ' Avg Fwd Segment Size',\n",
            "       ' Avg Bwd Segment Size', ' Fwd Header Length.1', 'Fwd Avg Bytes/Bulk',\n",
            "       ' Fwd Avg Packets/Bulk', ' Fwd Avg Bulk Rate', ' Bwd Avg Bytes/Bulk',\n",
            "       ' Bwd Avg Packets/Bulk', 'Bwd Avg Bulk Rate', 'Subflow Fwd Packets',\n",
            "       ' Subflow Fwd Bytes', ' Subflow Bwd Packets', ' Subflow Bwd Bytes',\n",
            "       'Init_Win_bytes_forward', ' Init_Win_bytes_backward',\n",
            "       ' act_data_pkt_fwd', ' min_seg_size_forward', 'Active Mean',\n",
            "       ' Active Std', ' Active Max', ' Active Min', 'Idle Mean', ' Idle Std',\n",
            "       ' Idle Max', ' Idle Min', ' Label'],\n",
            "      dtype='object')\n"
          ]
        }
      ]
    },
    {
      "cell_type": "code",
      "source": [
        "print(dataset1.describe)"
      ],
      "metadata": {
        "id": "HT2QFpDWLiFk",
        "colab": {
          "base_uri": "https://localhost:8080/"
        },
        "outputId": "37659439-dd48-4b64-c3ed-df2dbb1c0e88"
      },
      "execution_count": 58,
      "outputs": [
        {
          "output_type": "stream",
          "name": "stdout",
          "text": [
            "<bound method NDFrame.describe of                                         Flow ID       Source IP   Source Port  \\\n",
            "0       192.168.10.5-104.16.207.165-54865-443-6  104.16.207.165           443   \n",
            "1         192.168.10.5-104.16.28.216-55054-80-6   104.16.28.216            80   \n",
            "2         192.168.10.5-104.16.28.216-55055-80-6   104.16.28.216            80   \n",
            "3       192.168.10.16-104.17.241.25-46236-443-6   104.17.241.25           443   \n",
            "4       192.168.10.5-104.19.196.102-54863-443-6  104.19.196.102           443   \n",
            "...                                         ...             ...           ...   \n",
            "133545      172.16.0.1-192.168.10.50-56919-80-6      172.16.0.1         56919   \n",
            "133546      172.16.0.1-192.168.10.50-56920-80-6      172.16.0.1         56920   \n",
            "133547      172.16.0.1-192.168.10.50-56920-80-6      172.16.0.1         56920   \n",
            "133548      172.16.0.1-192.168.10.50-56921-80-6      172.16.0.1         56921   \n",
            "133549      172.16.0.1-192.168.10.50-56921-80-6      172.16.0.1         56921   \n",
            "\n",
            "        Destination IP   Destination Port   Protocol      Timestamp  \\\n",
            "0         192.168.10.5              54865          6  7/7/2017 3:30   \n",
            "1         192.168.10.5              55054          6  7/7/2017 3:30   \n",
            "2         192.168.10.5              55055          6  7/7/2017 3:30   \n",
            "3        192.168.10.16              46236          6  7/7/2017 3:30   \n",
            "4         192.168.10.5              54863          6  7/7/2017 3:30   \n",
            "...                ...                ...        ...            ...   \n",
            "133545   192.168.10.50                 80          6  7/7/2017 4:09   \n",
            "133546   192.168.10.50                 80          6  7/7/2017 4:09   \n",
            "133547   192.168.10.50                 80          6  7/7/2017 4:09   \n",
            "133548   192.168.10.50                 80          6  7/7/2017 4:09   \n",
            "133549   192.168.10.50                 80          6            NaN   \n",
            "\n",
            "         Flow Duration   Total Fwd Packets   Total Backward Packets  ...  \\\n",
            "0                  3.0                 2.0                      0.0  ...   \n",
            "1                109.0                 1.0                      1.0  ...   \n",
            "2                 52.0                 1.0                      1.0  ...   \n",
            "3                 34.0                 1.0                      1.0  ...   \n",
            "4                  3.0                 2.0                      0.0  ...   \n",
            "...                ...                 ...                      ...  ...   \n",
            "133545      92178899.0                 8.0                      5.0  ...   \n",
            "133546         74846.0                 3.0                      5.0  ...   \n",
            "133547      92171299.0                 8.0                      4.0  ...   \n",
            "133548         74760.0                 3.0                      4.0  ...   \n",
            "133549             NaN                 NaN                      NaN  ...   \n",
            "\n",
            "         min_seg_size_forward  Active Mean   Active Std   Active Max  \\\n",
            "0                        20.0          0.0          0.0          0.0   \n",
            "1                        20.0          0.0          0.0          0.0   \n",
            "2                        20.0          0.0          0.0          0.0   \n",
            "3                        20.0          0.0          0.0          0.0   \n",
            "4                        20.0          0.0          0.0          0.0   \n",
            "...                       ...          ...          ...          ...   \n",
            "133545                   20.0    1365977.0          0.0    1365977.0   \n",
            "133546                   20.0          0.0          0.0          0.0   \n",
            "133547                   20.0    1363018.0          0.0    1363018.0   \n",
            "133548                   20.0          0.0          0.0          0.0   \n",
            "133549                    NaN          NaN          NaN          NaN   \n",
            "\n",
            "         Active Min   Idle Mean   Idle Std    Idle Max    Idle Min   Label  \n",
            "0               0.0         0.0        0.0         0.0         0.0  BENIGN  \n",
            "1               0.0         0.0        0.0         0.0         0.0  BENIGN  \n",
            "2               0.0         0.0        0.0         0.0         0.0  BENIGN  \n",
            "3               0.0         0.0        0.0         0.0         0.0  BENIGN  \n",
            "4               0.0         0.0        0.0         0.0         0.0  BENIGN  \n",
            "...             ...         ...        ...         ...         ...     ...  \n",
            "133545    1365977.0  90700000.0        0.0  90700000.0  90700000.0    DDoS  \n",
            "133546          0.0         0.0        0.0         0.0         0.0    DDoS  \n",
            "133547    1363018.0  90700000.0        0.0  90700000.0  90700000.0    DDoS  \n",
            "133548          0.0         0.0        0.0         0.0         0.0    DDoS  \n",
            "133549          NaN         NaN        NaN         NaN         NaN     NaN  \n",
            "\n",
            "[133550 rows x 85 columns]>\n"
          ]
        }
      ]
    },
    {
      "cell_type": "code",
      "source": [
        "print(dataset1.groupby(' Label').size())\n",
        "# print(dataset2.groupby(' Label').size())\n",
        "# print(dataset3.groupby(' Label').size())\n",
        "# print(dataset4.groupby(' Label').size())\n",
        "# print(dataset5.groupby(' Label').size())\n",
        "# print(dataset6.groupby(' Label').size())\n",
        "# print(dataset7.groupby(' Label').size())\n",
        "# print(dataset8.groupby(' Label').size())"
      ],
      "metadata": {
        "colab": {
          "base_uri": "https://localhost:8080/"
        },
        "id": "WSSBdbnxd8p5",
        "outputId": "62223297-9cbd-40c9-d68f-53c9b49750c9"
      },
      "execution_count": 59,
      "outputs": [
        {
          "output_type": "stream",
          "name": "stdout",
          "text": [
            " Label\n",
            "BENIGN    48718\n",
            "DDoS      84831\n",
            "dtype: int64\n"
          ]
        }
      ]
    }
  ],
  "metadata": {
    "colab": {
      "provenance": [],
      "authorship_tag": "ABX9TyMbBNM7RLevbtxOEVyBgsKL",
      "include_colab_link": true
    },
    "kernelspec": {
      "display_name": "Python 3",
      "name": "python3"
    },
    "language_info": {
      "name": "python"
    }
  },
  "nbformat": 4,
  "nbformat_minor": 0
}